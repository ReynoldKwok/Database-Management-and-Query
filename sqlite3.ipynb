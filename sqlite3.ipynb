{
 "cells": [
  {
   "cell_type": "raw",
   "id": "5976a355-0049-4d4e-a04b-751d73596b35",
   "metadata": {},
   "source": [
    "Question 1\n",
    "\n",
    "Create an SQLite database and import the data into a table named “CarSharing”.\n",
    "Create a backup table and copy the whole table into it."
   ]
  },
  {
   "cell_type": "code",
   "execution_count": 1,
   "id": "9821f8d0-7f96-49d4-b7b1-5b34d032f40d",
   "metadata": {},
   "outputs": [
    {
     "name": "stdout",
     "output_type": "stream",
     "text": [
      "Completed!\n"
     ]
    }
   ],
   "source": [
    "# Import necessary library for the program\n",
    "import sqlite3\n",
    "\n",
    "# Connect to the SQLite database\n",
    "con = sqlite3.connect(\"CarSharing.db\", isolation_level=None)\n",
    "cur = con.cursor()\n",
    "\n",
    "cur.execute(\"SELECT name FROM sqlite_master WHERE type='table';\")\n",
    "tables = cur.fetchall()\n",
    "for table in tables:\n",
    "    cur.execute(\"DROP TABLE %s\" %table)\n",
    "\n",
    "# Create a table for the \"CarSharing\" csv file\n",
    "cur.execute('''CREATE TABLE carsharing (\n",
    "                    id INT NOT NULL,\n",
    "                    timestamp DATETIME,\n",
    "                    season VARCHAR(8),\n",
    "                    holiday VARCHAR(5),\n",
    "                    workingday VARCHAR(5),\n",
    "                    weather VARCHAR(35),\n",
    "                    temp DECIMAL(2),\n",
    "                    temp_feel DECIMAL(3),\n",
    "                    humidity INT,\n",
    "                    windspeed DECIMAL(4),\n",
    "                    demand DECIMAL(9),\n",
    "                    UNIQUE(id)\n",
    "                    )''')\n",
    "\n",
    "# Read data from the CSV fil\n",
    "with open('CarSharing.csv', 'r') as file:\n",
    "    lines = file.readlines()\n",
    "\n",
    "list = []\n",
    "\n",
    "# Process each line of the CSV file\n",
    "for line in lines[1:]:\n",
    "    # Split the line into values\n",
    "    values = line.strip().split(',')\n",
    "    # Split the string into date and time components\n",
    "    date_str, time_str = values[1].split()\n",
    "    # Split the date into day, month, and year components\n",
    "    day, month, year = date_str.split(\"/\")\n",
    "    # Rearrange the components to form the desired format\n",
    "    values[1] = f\"{year}-{month}-{day} {time_str}\"\n",
    "    \n",
    "    cur.execute('''INSERT INTO CarSharing VALUES (?, ?, ?, ?, ?, ?, ?, ?, ?, ?, ?);''', values)\n",
    "\n",
    "attributes = ['temp', 'temp_feel', 'humidity', 'windspeed', 'demand']\n",
    "\n",
    "for attribute in attributes:\n",
    "    sql = f\"UPDATE CarSharing SET {attribute} = NULL WHERE {attribute} = ''\"\n",
    "    cur.execute(sql)\n",
    "\n",
    "# Create a backup table\n",
    "cur.execute(\"CREATE TABLE BackUp AS SELECT * FROM CarSharing;\")\n",
    "\n",
    "# Retrieve and print data from the \"CarSharing\" table\n",
    "cur.execute(\"SELECT * From CarSharing;\")\n",
    "result=cur.fetchall()\n",
    "\n",
    "# Write data to the CSV file\n",
    "with open(\"Result1a.csv\", 'w') as file:\n",
    "    # Write the column headers to the CSV file\n",
    "    column_names = [desc[0] for desc in cur.description]\n",
    "    file.write(','.join(column_names) + '\\n')\n",
    "    \n",
    "    # Write the data rows to the CSV file\n",
    "    for rows in result:\n",
    "        file.write(','.join(str(value) for value in rows) + '\\n')\n",
    "\n",
    "# Retrieve and print data from the \"Backup\" table\n",
    "cur.execute(\"SELECT * From Backup;\")\n",
    "result = cur.fetchall()\n",
    "\n",
    "# Write data to the CSV file\n",
    "with open(\"Result1b.csv\", 'w') as file:\n",
    "    # Write the column headers to the CSV file\n",
    "    column_names = [desc[0] for desc in cur.description]\n",
    "    file.write(','.join(column_names) + '\\n')\n",
    "    \n",
    "    # Write the data rows to the CSV file\n",
    "    for rows in result:\n",
    "        file.write(','.join(str(value) for value in rows) + '\\n')\n",
    "\n",
    "# Close the connection\n",
    "cur.close()\n",
    "print(\"Completed!\")"
   ]
  },
  {
   "cell_type": "raw",
   "id": "16d01b0c-d524-42cd-b5f1-28df7c717182",
   "metadata": {},
   "source": [
    "Question 2\n",
    "\n",
    "Add a column to the CarSharing table named “temp_category”.\n",
    "This column should contain three string values.\n",
    "If the “feels-like” temperature is less than 10 then the corresponding value in the temp_category column should be “Cold”, if the feels-like temperature is between 10 and 25, the value should be “Mild”, and if the feels-like temperature is greater than 25, then the value should be “Hot”."
   ]
  },
  {
   "cell_type": "code",
   "execution_count": 2,
   "id": "e0309eab-3873-44a5-ba1c-e98ad8b5a0c7",
   "metadata": {},
   "outputs": [
    {
     "name": "stdout",
     "output_type": "stream",
     "text": [
      "Completed!\n"
     ]
    }
   ],
   "source": [
    "# Connect to the SQLite database\n",
    "cur = con.cursor()\n",
    "\n",
    "# cur.execute(\"ALTER TABLE CarSharing DROP temp_category\")\n",
    "\n",
    "# Add temp_category column\n",
    "cur.execute('''ALTER TABLE CarSharing\n",
    "ADD temp_category varchar(5);''')\n",
    "\n",
    "# Update temp_category column based on temp_feel\n",
    "cur.execute('''UPDATE CarSharing\n",
    "SET temp_category =\n",
    "CASE\n",
    "    WHEN temp_feel is NULL THEN NULL\n",
    "    WHEN temp_feel < 10 THEN \"Cold\"\n",
    "    WHEN temp_feel > 25 THEN \"Hot\"\n",
    "    ELSE \"Mild\"\n",
    "END;''')\n",
    "\n",
    "# Retrieve data from the CarSharing table\n",
    "cur.execute(\"SELECT * From CarSharing;\")\n",
    "result = cur.fetchall()\n",
    "\n",
    "# Write data to the CSV file\n",
    "with open(\"Result2.csv\", 'w') as file:\n",
    "    # Write the column headers to the CSV file\n",
    "    column_names = [desc[0] for desc in cur.description]\n",
    "    file.write(','.join(column_names) + '\\n')\n",
    "    \n",
    "    # Write the data rows to the CSV file\n",
    "    for rows in result:\n",
    "        file.write(','.join(str(value) for value in rows) + '\\n')\n",
    "\n",
    "# Close the connection\n",
    "cur.close()\n",
    "print(\"Completed!\")"
   ]
  },
  {
   "cell_type": "raw",
   "id": "10357b6a-f71b-4667-9da5-1ee9c1a1fdbe",
   "metadata": {},
   "source": [
    "Question 3\n",
    "Create another table named “temperature” by selecting the temp, temp_feel, and temp_category columns.\n",
    "Then drop the temp and temp_feel columns from the CarSharing table."
   ]
  },
  {
   "cell_type": "code",
   "execution_count": 3,
   "id": "9c11e478-640f-4bf0-99e0-97ad6d4c1398",
   "metadata": {},
   "outputs": [
    {
     "name": "stdout",
     "output_type": "stream",
     "text": [
      "Completed!\n"
     ]
    }
   ],
   "source": [
    "cur = con.cursor()\n",
    "\n",
    "# cur.execute(\"DROP TABLE temperature\")\n",
    "\n",
    "cur.execute(\"CREATE TABLE temperature AS SELECT temp, temp_feel, temp_category FROM CarSharing;\")\n",
    "\n",
    "cur.execute(\"\"\"ALTER TABLE CarSharing\n",
    "DROP COLUMN temp;\"\"\")\n",
    "cur.execute(\"\"\"ALTER TABLE CarSharing\n",
    "DROP COLUMN temp_feel;\"\"\")\n",
    "\n",
    "cur.execute(\"SELECT * From temperature;\")\n",
    "result = cur.fetchall()\n",
    "# Write data to the CSV file\n",
    "with open(\"Result3a.csv\", 'w') as file:\n",
    "    # Write the column headers to the CSV file\n",
    "    column_names = [desc[0] for desc in cur.description]\n",
    "    file.write(','.join(column_names) + '\\n')\n",
    "    \n",
    "    # Write the data rows to the CSV file\n",
    "    for rows in result:\n",
    "        file.write(','.join(str(value) for value in rows) + '\\n')\n",
    "\n",
    "cur.execute(\"SELECT * From CarSharing;\")\n",
    "result = cur.fetchall()\n",
    "# Write data to the CSV file\n",
    "with open(\"Result3b.csv\", 'w') as file:\n",
    "    # Write the column headers to the CSV file\n",
    "    column_names = [desc[0] for desc in cur.description]\n",
    "    file.write(','.join(column_names) + '\\n')\n",
    "    \n",
    "    # Write the data rows to the CSV file\n",
    "    for rows in result:\n",
    "        file.write(','.join(str(value) for value in rows) + '\\n')\n",
    "\n",
    "# Close the connection\n",
    "cur.close()\n",
    "print(\"Completed!\")"
   ]
  },
  {
   "cell_type": "raw",
   "id": "f41cc8f8-cfc0-4b96-8c90-09a258f0e6f5",
   "metadata": {},
   "source": [
    "Question 4\n",
    "Find the distinct values of the weather column and assign a number to each value.\n",
    "Add another column named “weather_code” to the table containing each row’s assigned weather code."
   ]
  },
  {
   "cell_type": "code",
   "execution_count": 4,
   "id": "b9dbd425-4df9-4c15-9e28-96c9d8feb01b",
   "metadata": {},
   "outputs": [
    {
     "name": "stdout",
     "output_type": "stream",
     "text": [
      "Completed!\n"
     ]
    }
   ],
   "source": [
    "cur = con.cursor()\n",
    "\n",
    "cur.execute(\"SELECT DISTINCT(weather) From CarSharing;\")\n",
    "result = cur.fetchall()\n",
    "# print(result)\n",
    "\n",
    "dictA = {}\n",
    "varA = 1\n",
    "for x in result:\n",
    "    for y in x:\n",
    "        dictA[y] = varA\n",
    "    varA += 1\n",
    "\n",
    "# print(dictA)\n",
    "\n",
    "#cur.execute(\"ALTER TABLE Raw DROP weather_code\")\n",
    "\n",
    "cur.execute('''ALTER TABLE CarSharing\n",
    "ADD weather_code int;''')\n",
    "\n",
    "for weather, code in dictA.items():\n",
    "    cur.execute(\"UPDATE CarSharing SET weather_code = ? WHERE weather = ?;\", (code, weather))\n",
    "\n",
    "cur.execute(\"SELECT * From CarSharing;\")\n",
    "result = cur.fetchall()\n",
    "# Write data to the CSV file\n",
    "with open(\"Result4.csv\", 'w') as file:\n",
    "    # Write the column headers to the CSV file\n",
    "    column_names = [desc[0] for desc in cur.description]\n",
    "    file.write(','.join(column_names) + '\\n')\n",
    "    \n",
    "    # Write the data rows to the CSV file\n",
    "    for rows in result:\n",
    "        file.write(','.join(str(value) for value in rows) + '\\n')\n",
    "\n",
    "# Close the connection\n",
    "cur.close()\n",
    "print(\"Completed!\")"
   ]
  },
  {
   "cell_type": "raw",
   "id": "c2744dbe-1473-49b9-a333-db75cad541a6",
   "metadata": {},
   "source": [
    "Question 5\n",
    "Create a table called “weather” and copy the columns “weather” and “weather_code” to this table.\n",
    "Then drop the weather column from the CarSharing table."
   ]
  },
  {
   "cell_type": "code",
   "execution_count": 5,
   "id": "43d32709-ec87-417c-a880-530740fd98f3",
   "metadata": {},
   "outputs": [
    {
     "name": "stdout",
     "output_type": "stream",
     "text": [
      "Completed!\n"
     ]
    }
   ],
   "source": [
    "cur = con.cursor()\n",
    "\n",
    "# cur.execute(\"DROP TABLE weather\")\n",
    "\n",
    "cur.execute(\"CREATE TABLE weather AS SELECT weather, weather_code FROM CarSharing;\")\n",
    "\n",
    "cur.execute(\"\"\"ALTER TABLE CarSharing\n",
    "DROP COLUMN weather;\"\"\")\n",
    "\n",
    "cur.execute(\"SELECT * From weather;\")\n",
    "result = cur.fetchall()\n",
    "# Write data to the CSV file\n",
    "with open(\"Result5a.csv\", 'w') as file:\n",
    "    # Write the column headers to the CSV file\n",
    "    column_names = [desc[0] for desc in cur.description]\n",
    "    file.write(','.join(column_names) + '\\n')\n",
    "    \n",
    "    # Write the data rows to the CSV file\n",
    "    for rows in result:\n",
    "        file.write(','.join(str(value) for value in rows) + '\\n')\n",
    "\n",
    "cur.execute(\"SELECT * From CarSharing;\")\n",
    "result = cur.fetchall()\n",
    "# Write data to the CSV file\n",
    "with open(\"Result5b.csv\", 'w') as file:\n",
    "    # Write the column headers to the CSV file\n",
    "    column_names = [desc[0] for desc in cur.description]\n",
    "    file.write(','.join(column_names) + '\\n')\n",
    "    \n",
    "    # Write the data rows to the CSV file\n",
    "    for rows in result:\n",
    "        file.write(','.join(str(value) for value in rows) + '\\n')\n",
    "\n",
    "# Close the connection\n",
    "cur.close()\n",
    "print(\"Completed!\")"
   ]
  },
  {
   "cell_type": "raw",
   "id": "0aec029a-c920-479a-bbf8-794950d9851b",
   "metadata": {},
   "source": [
    "Question 6\n",
    "Create a table called time with four columns containing each row’s timestamp, hour, weekday name, and month name\n",
    "(Hint: you can use the surftime() function for this purpose)."
   ]
  },
  {
   "cell_type": "code",
   "execution_count": 6,
   "id": "13aec391-c269-47bc-89e0-ecc9012efd5e",
   "metadata": {},
   "outputs": [
    {
     "name": "stdout",
     "output_type": "stream",
     "text": [
      "Completed!\n"
     ]
    }
   ],
   "source": [
    "cur = con.cursor()\n",
    "\n",
    "# cur.execute(\"DROP TABLE time;\")\n",
    "\n",
    "cur.execute(\"\"\"CREATE TABLE time (\n",
    "    timestamp DATETIME,\n",
    "    hour INT,\n",
    "    weekday INT,\n",
    "    month INT);\"\"\")\n",
    "\n",
    "cur.execute(\"\"\"INSERT INTO time SELECT timestamp, strftime(\"%H\", timestamp) AS hour, strftime(\"%w\", timestamp) AS weekday, strftime(\"%m\", timestamp) AS month From CarSharing;\"\"\")\n",
    "\n",
    "weekdays = { 0: \"Sunday\", 1: \"Monday\", 2: \"Tuesday\", 3: \"Wednesday\", 4: \"Thursday\", 5: \"Friday\", 6: \"Saturday\"}\n",
    "for code, name in weekdays.items():\n",
    "    cur.execute(\"UPDATE time SET weekday = ? WHERE weekday = ?;\", (name, code))\n",
    "\n",
    "months = { 1: \"January\", 2: \"February\", 3: \"March\", 4: \"April\", 5: \"May\", 6: \"June\", 7: \"July\", 8: \"August\", 9: \"September\", 10: \"October\", 11: \"November\", 12: \"December\"}\n",
    "for code, name in months.items():\n",
    "    cur.execute(\"UPDATE time SET month = ? WHERE month = ?;\", (name, code))\n",
    "\n",
    "cur.execute(\"SELECT * From time;\")\n",
    "result = cur.fetchall()\n",
    "# Write data to the CSV file\n",
    "with open(\"Result6.csv\", 'w') as file:\n",
    "    # Write the column headers to the CSV file\n",
    "    column_names = [desc[0] for desc in cur.description]\n",
    "    file.write(','.join(column_names) + '\\n')\n",
    "    \n",
    "    # Write the data rows to the CSV file\n",
    "    for rows in result:\n",
    "        file.write(','.join(str(value) for value in rows) + '\\n')\n",
    "\n",
    "# Close the connection\n",
    "cur.close()\n",
    "print(\"Completed!\")"
   ]
  },
  {
   "cell_type": "raw",
   "id": "dadac757-688f-4c85-9d59-19f0c3a3c2a7",
   "metadata": {},
   "source": [
    "Question 7"
   ]
  },
  {
   "cell_type": "raw",
   "id": "10e53f4d-bce0-4dd9-9a5a-e7ab232a3346",
   "metadata": {},
   "source": [
    "7a)  Please tell me which date and time we had the highest demand rate in 2017."
   ]
  },
  {
   "cell_type": "code",
   "execution_count": 7,
   "id": "b4bb4bb4-a97c-471c-9ff3-8ce24f9de5a6",
   "metadata": {},
   "outputs": [
    {
     "name": "stdout",
     "output_type": "stream",
     "text": [
      "['date', 'time', 'demand']\n",
      "[('2017-06-15', '17:00:00', 6.458338283)]\n"
     ]
    }
   ],
   "source": [
    "cur = con.cursor()\n",
    "\n",
    "cur.execute(\"\"\"\n",
    "SELECT strftime(\"%Y-%m-%d\", timestamp) AS date, strftime(\"%H:%M:%S\", timestamp) AS time, demand\n",
    "FROM CarSharing\n",
    "WHERE id IN (SELECT id FROM CarSharing WHERE strftime(\"%Y\", timestamp) = \"2017\")\n",
    "AND demand IN (SELECT MAX(demand) FROM CarSharing WHERE strftime(\"%Y\", timestamp) = \"2017\");\"\"\")\n",
    "\n",
    "result = cur.fetchall()\n",
    "columns = [description[0] for description in cur.description]\n",
    "print(columns, result, sep=\"\\n\")\n",
    "cur.close()"
   ]
  },
  {
   "cell_type": "raw",
   "id": "635c0313-3e9a-4d77-9a81-3029991382ba",
   "metadata": {},
   "source": [
    "7b) Give me a table containing the name of the weekday, month, and season in which we had the highest and lowest average demand rates throughout 2017. Please include the calculated average demand values as well."
   ]
  },
  {
   "cell_type": "code",
   "execution_count": 8,
   "id": "119afdd5-3eff-433f-b8ff-322634218007",
   "metadata": {},
   "outputs": [
    {
     "name": "stdout",
     "output_type": "stream",
     "text": [
      "['weekday', 'month', 'season', 'average_demand']\n",
      "[('Sunday', 'July', 'fall', 4.997135078819442), ('Monday', 'January', 'spring', 3.05078577812676)]\n"
     ]
    }
   ],
   "source": [
    "cur = con.cursor()\n",
    "\n",
    "# cur.execute(\"DROP TABLE result\")\n",
    "\n",
    "cur.execute(\"\"\"CREATE TABLE result AS SELECT t.weekday AS weekday, t.month AS month, c.season AS season, AVG(c.demand) AS average_demand\n",
    "FROM CarSharing c\n",
    "INNER JOIN time t\n",
    "ON c.timestamp = t.timestamp\n",
    "WHERE strftime(\"%Y\", c.timestamp) = \"2017\"\n",
    "GROUP BY weekday, month, season\n",
    "ORDER BY average_demand DESC\n",
    "LIMIT 1;\"\"\")\n",
    "\n",
    "cur.execute(\"\"\"INSERT INTO result (weekday, month, season, average_demand)\n",
    "SELECT t.weekday AS weekday, t.month AS month, c.season AS season, AVG(c.demand) AS average_demand\n",
    "FROM CarSharing c\n",
    "INNER JOIN time t\n",
    "ON c.timestamp = t.timestamp\n",
    "WHERE strftime(\"%Y\", c.timestamp) = \"2017\"\n",
    "GROUP BY weekday, month, season\n",
    "ORDER BY average_demand\n",
    "LIMIT 1;\"\"\")\n",
    "\n",
    "cur.execute(\"SELECT * From result;\")\n",
    "result = cur.fetchall()\n",
    "\n",
    "# Write data to the CSV file\n",
    "with open(\"Result7b.csv\", 'w') as file:\n",
    "    # Write the column headers to the CSV file\n",
    "    column_names = [desc[0] for desc in cur.description]\n",
    "    file.write(','.join(column_names) + '\\n')\n",
    "    \n",
    "    # Write the data rows to the CSV file\n",
    "    for rows in result:\n",
    "        file.write(','.join(str(value) for value in rows) + '\\n')\n",
    "\n",
    "columns = [description[0] for description in cur.description]\n",
    "print(columns, result, sep=\"\\n\")\n",
    "cur.close()"
   ]
  },
  {
   "cell_type": "raw",
   "id": "69639d12-e70d-4026-a527-d038248e40a5",
   "metadata": {},
   "source": [
    "7c) For the weekday selected in (b), please give me a table showing the average demand rate we had at different hours of that weekday throughout 2017. Please sort the results in descending order based on the average demand rates."
   ]
  },
  {
   "cell_type": "code",
   "execution_count": 9,
   "id": "2acfb58d-3046-44b5-b9eb-a2064673fcf2",
   "metadata": {},
   "outputs": [
    {
     "name": "stdout",
     "output_type": "stream",
     "text": [
      "['weekday', 'hour', 'average_demand']\n",
      "[('Monday', 13, 5.64355388559375), ('Monday', 12, 5.6219724075), ('Monday', 14, 5.5546127640312495), ('Sunday', 15, 5.537925196764707), ('Monday', 15, 5.5151148165625), ('Sunday', 14, 5.513702656235295), ('Monday', 16, 5.503753106031249), ('Sunday', 16, 5.496274498382354), ('Sunday', 13, 5.478758230294119), ('Sunday', 12, 5.457459126911766), ('Monday', 11, 5.437364716968752), ('Monday', 17, 5.39925222134375), ('Sunday', 17, 5.36763434964706), ('Sunday', 11, 5.2909150675882355), ('Sunday', 18, 5.241211627117648), ('Monday', 10, 5.22383141215625), ('Monday', 18, 5.215942911343751), ('Sunday', 10, 5.074545768735294), ('Sunday', 19, 5.041802430029413), ('Monday', 19, 4.99049988034375), ('Sunday', 20, 4.790666498058823), ('Monday', 20, 4.72698612103125), ('Sunday', 9, 4.68317637832353), ('Monday', 9, 4.63834451678125), ('Sunday', 21, 4.604221629500001), ('Sunday', 22, 4.477619972735296), ('Monday', 21, 4.464855592749998), ('Sunday', 23, 4.346754004441176), ('Monday', 0, 4.23048152215625), ('Sunday', 8, 4.204916044029412), ('Monday', 22, 4.188674635187501), ('Sunday', 0, 4.134974102147059), ('Monday', 1, 3.9769288673437497), ('Monday', 8, 3.9349436288749997), ('Sunday', 1, 3.869853286235294), ('Monday', 23, 3.7996223936250004), ('Monday', 2, 3.7689688065161295), ('Sunday', 2, 3.6112321135588235), ('Sunday', 7, 3.294024362676471), ('Monday', 3, 3.07405827915625), ('Monday', 7, 3.00759270721875), ('Sunday', 3, 2.770262641205882), ('Sunday', 6, 2.4532185906176474), ('Monday', 6, 2.0021823569375), ('Monday', 5, 1.7434286053793098), ('Monday', 4, 1.6598884884375), ('Sunday', 4, 1.6592273354411762), ('Sunday', 5, 1.6491762147647056)]\n"
     ]
    }
   ],
   "source": [
    "cur = con.cursor()\n",
    "\n",
    "cur.execute(\"\"\"SELECT t.weekday, t.hour, AVG(c.demand) AS average_demand\n",
    "FROM CarSharing c\n",
    "INNER JOIN time t\n",
    "ON c.timestamp = t.timestamp\n",
    "WHERE strftime(\"%Y\", c.timestamp) = \"2017\"\n",
    "AND weekday IN (SELECT weekday FROM result)\n",
    "GROUP BY t.weekday, t.hour\n",
    "ORDER BY average_demand DESC;\"\"\")\n",
    "\n",
    "result = cur.fetchall()\n",
    "# Write data to the CSV file\n",
    "with open(\"Result7c.csv\", 'w') as file:\n",
    "    # Write the column headers to the CSV file\n",
    "    column_names = [desc[0] for desc in cur.description]\n",
    "    file.write(','.join(column_names) + '\\n')\n",
    "    \n",
    "    # Write the data rows to the CSV file\n",
    "    for rows in result:\n",
    "        file.write(','.join(str(value) for value in rows) + '\\n')\n",
    "columns = [description[0] for description in cur.description]\n",
    "print(columns, result, sep=\"\\n\")\n",
    "cur.close()"
   ]
  },
  {
   "cell_type": "raw",
   "id": "bb888d68-7be6-4861-91f6-1f10cd08f392",
   "metadata": {},
   "source": [
    "7d) Please tell me what the weather was like in 2017. Was it mostly cold, mild, or hot?"
   ]
  },
  {
   "cell_type": "code",
   "execution_count": 10,
   "id": "cce25d98-4df2-485d-8f67-e58e16c08598",
   "metadata": {},
   "outputs": [
    {
     "name": "stdout",
     "output_type": "stream",
     "text": [
      "['temp_category', 'COUNT(temp_category)']\n",
      "[('Mild', 2660)]\n"
     ]
    }
   ],
   "source": [
    "cur = con.cursor()\n",
    "\n",
    "cur.execute(\"\"\"SELECT temp_category, COUNT(temp_category)\n",
    "FROM CarSharing\n",
    "WHERE strftime(\"%Y\", timestamp) = \"2017\"\n",
    "GROUP BY temp_category\n",
    "ORDER BY COUNT(temp_category) DESC\n",
    "LIMIT 1\n",
    ";\"\"\")\n",
    "\n",
    "result = cur.fetchall()\n",
    "columns = [description[0] for description in cur.description]\n",
    "print(columns, result, sep=\"\\n\")\n",
    "\n",
    "cur.close()"
   ]
  },
  {
   "cell_type": "raw",
   "id": "f478b9b0-584c-479e-83b1-e530423dc964",
   "metadata": {},
   "source": [
    "Which weather condition (shown in the weather column) was the most prevalent in 2017? "
   ]
  },
  {
   "cell_type": "code",
   "execution_count": 11,
   "id": "0c8a232c-abab-4cff-9bbd-44298b3677f7",
   "metadata": {},
   "outputs": [
    {
     "name": "stdout",
     "output_type": "stream",
     "text": [
      "['weather', 'COUNT(CarSharing.weather_code)']\n",
      "[('Clear or partly cloudy', 3583)]\n"
     ]
    }
   ],
   "source": [
    "cur = con.cursor()\n",
    "\n",
    "cur.execute(\"\"\"SELECT w.weather, COUNT(CarSharing.weather_code)\n",
    "FROM CarSharing\n",
    "INNER JOIN (\n",
    "  SELECT DISTINCT weather_code, weather\n",
    "  FROM weather\n",
    ") w\n",
    "ON CarSharing.weather_code = w.weather_code\n",
    "WHERE strftime(\"%Y\", CarSharing.timestamp) = \"2017\"\n",
    "GROUP BY CarSharing.weather_code\n",
    "ORDER BY COUNT(CarSharing.weather_code) DESC\n",
    "LIMIT 1;\"\"\")\n",
    "\n",
    "result = cur.fetchall()\n",
    "columns = [description[0] for description in cur.description]\n",
    "print(columns, result, sep=\"\\n\")\n",
    "\n",
    "cur.close()"
   ]
  },
  {
   "cell_type": "raw",
   "id": "2f2e7cd4-7a0a-44ed-b704-501cc3c7d727",
   "metadata": {},
   "source": [
    "What was the average, highest, and lowest wind speed and humidity for each month in 2017? Please organise this information in two tables for the wind speed and humidity. "
   ]
  },
  {
   "cell_type": "code",
   "execution_count": 12,
   "id": "c0dfbe9a-feec-4dd8-8643-0848cf97fa5a",
   "metadata": {},
   "outputs": [
    {
     "name": "stdout",
     "output_type": "stream",
     "text": [
      "['month', 'average_windspeed', 'max_windspeed', 'min_windspeed']\n",
      "[('April', 15.852275112107584, 40.9973, 0), ('August', 12.411122347629782, 43.0006, 0), ('December', 10.8364595505618, 43.0006, 0), ('February', 15.577716628175509, 51.9987, 0), ('January', 13.748052358490567, 39.0007, 0), ('July', 12.015845657015571, 56.9969, 0), ('June', 11.827618161434977, 35.0008, 0), ('March', 15.974884101382482, 40.9973, 0), ('May', 12.427390827740476, 40.9973, 0), ('November', 12.142271171171178, 36.9974, 0), ('October', 10.892052370203167, 36.9974, 0), ('September', 11.564080089485438, 40.9973, 0)]\n",
      "['month', 'average_humidity', 'max_humidity', 'min_humidity']\n",
      "[('April', 66.2488986784141, 100, 22), ('August', 62.17362637362638, 94, 25), ('December', 65.18061674008811, 100, 26), ('February', 53.58071748878924, 100, 8), ('January', 56.30769230769231, 100, 28), ('July', 60.29203539823009, 94, 17), ('June', 58.370860927152314, 100, 20), ('March', 55.997752808988764, 100, 0), ('May', 71.37142857142857, 100, 24), ('November', 64.16923076923077, 100, 27), ('October', 71.57142857142857, 100, 29), ('September', 74.84035476718404, 100, 42)]\n"
     ]
    }
   ],
   "source": [
    "cur = con.cursor()\n",
    "\n",
    "cur.execute(\"\"\"SELECT t.month, AVG(c.windspeed) AS average_windspeed, MAX(c.windspeed) AS max_windspeed, MIN(c.windspeed) AS min_windspeed\n",
    "FROM CarSharing c\n",
    "INNER JOIN time t\n",
    "ON c.timestamp = t.timestamp\n",
    "WHERE strftime(\"%Y\", c.timestamp) = \"2017\"\n",
    "GROUP BY t.month\n",
    ";\"\"\")\n",
    "\n",
    "result = cur.fetchall()\n",
    "columns = [description[0] for description in cur.description]\n",
    "print(columns, result, sep=\"\\n\")\n",
    "\n",
    "cur.execute(\"\"\"SELECT t.month, AVG(c.humidity) AS average_humidity, MAX(c.humidity) AS max_humidity, MIN(c.humidity) AS min_humidity\n",
    "FROM CarSharing c\n",
    "INNER JOIN time t\n",
    "ON c.timestamp = t.timestamp\n",
    "WHERE strftime(\"%Y\", c.timestamp) = \"2017\"\n",
    "GROUP BY t.month\n",
    ";\"\"\")\n",
    "\n",
    "result = cur.fetchall()\n",
    "columns = [description[0] for description in cur.description]\n",
    "print(columns, result, sep=\"\\n\")\n",
    "\n",
    "cur.close()"
   ]
  },
  {
   "cell_type": "raw",
   "id": "c3751ced-a035-4b26-9068-2be42aa3b196",
   "metadata": {},
   "source": [
    "Please also give me a table showing the average demand rate for each cold, mild, and hot weather in 2017 sorted in descending order based on their average demand rates."
   ]
  },
  {
   "cell_type": "code",
   "execution_count": 13,
   "id": "5971a512-8266-4130-a1b0-55ae889bbd5c",
   "metadata": {},
   "outputs": [
    {
     "name": "stdout",
     "output_type": "stream",
     "text": [
      "['temp_category', 'AVG(demand)']\n",
      "[('Hot', 4.798172530447556), ('Mild', 4.021015429114678), ('Cold', 3.1902527494948725)]\n"
     ]
    }
   ],
   "source": [
    "cur = con.cursor()\n",
    "\n",
    "cur.execute(\"\"\"SELECT temp_category, AVG(demand)\n",
    "FROM CarSharing\n",
    "WHERE strftime(\"%Y\", CarSharing.timestamp) = \"2017\"\n",
    "AND temp_category IN (\"Cold\", \"Mild\", \"Hot\")\n",
    "GROUP BY temp_category\n",
    "ORDER BY AVG(demand) DESC\n",
    ";\"\"\")\n",
    "\n",
    "result = cur.fetchall()\n",
    "columns = [description[0] for description in cur.description]\n",
    "print(columns, result, sep=\"\\n\")\n",
    "\n",
    "cur.close()"
   ]
  },
  {
   "cell_type": "raw",
   "id": "9b59588a-9afc-4285-8361-371ecd807bb1",
   "metadata": {},
   "source": [
    "7e) Give me another table showing the information requested in (d) for the month we had the highest average demand rate in 2017 so that I can compare it with other months."
   ]
  },
  {
   "cell_type": "code",
   "execution_count": 17,
   "id": "176a03cf-6e34-4724-813f-9090841d88cb",
   "metadata": {},
   "outputs": [
    {
     "name": "stdout",
     "output_type": "stream",
     "text": [
      "['month', 'average_demand']\n",
      "[('July', 4.787654876394732)]\n",
      "['timestamp', 'windspeed', 'humidity', 'weather', 'temp_category']\n",
      "[('2017-07-01 00:00', 0, 50, 'Clear or partly cloudy', 'Hot'), ('2017-07-01 01:00', 0, 50, 'Clear or partly cloudy', 'Hot'), ('2017-07-01 02:00', 0, 69, 'Clear or partly cloudy', 'Hot'), ('2017-07-01 03:00', 0, 53, 'Clear or partly cloudy', 'Hot'), ('2017-07-01 04:00', 0, 57, 'Clear or partly cloudy', 'Hot'), ('2017-07-01 05:00', 8.9981, 64, 'Clear or partly cloudy', 'Hot'), ('2017-07-01 06:00', 8.9981, 61, 'Clear or partly cloudy', 'Hot'), ('2017-07-01 07:00', 7.0015, 54, 'Clear or partly cloudy', 'Hot'), ('2017-07-01 08:00', 11.0014, 42, 'Clear or partly cloudy', 'Hot'), ('2017-07-01 09:00', 11.0014, 35, 'Clear or partly cloudy', 'Hot'), ('2017-07-01 10:00', 11.0014, 33, 'Clear or partly cloudy', 'Hot'), ('2017-07-01 11:00', 0, 26, 'Clear or partly cloudy', 'Hot'), ('2017-07-01 12:00', 0, 26, 'Clear or partly cloudy', 'Hot'), ('2017-07-01 13:00', 0, 24, 'Clear or partly cloudy', 'Hot'), ('2017-07-01 14:00', 12.998, 23, 'Clear or partly cloudy', 'Hot'), ('2017-07-01 15:00', 16.9979, 21, 'Clear or partly cloudy', 'Hot'), ('2017-07-01 16:00', 0, 17, 'Clear or partly cloudy', 'Hot'), ('2017-07-01 17:00', 12.998, 21, 'Clear or partly cloudy', 'Hot'), ('2017-07-01 18:00', 16.9979, 24, 'Clear or partly cloudy', 'Hot'), ('2017-07-01 19:00', 12.998, 25, 'Clear or partly cloudy', 'Hot'), ('2017-07-01 20:00', 15.0013, 42, 'Clear or partly cloudy', 'Hot'), ('2017-07-01 21:00', 12.998, 45, 'Clear or partly cloudy', 'Hot'), ('2017-07-01 22:00', 0, 42, 'Clear or partly cloudy', 'Hot'), ('2017-07-01 23:00', 6.0032, 47, 'Clear or partly cloudy', 'Hot'), ('2017-07-02 00:00', 6.0032, 47, 'Clear or partly cloudy', 'Hot'), ('2017-07-02 01:00', 0, 54, 'Clear or partly cloudy', 'Hot'), ('2017-07-02 02:00', 0, 53, 'Clear or partly cloudy', 'Hot'), ('2017-07-02 03:00', 0, 53, 'Clear or partly cloudy', 'Hot'), ('2017-07-02 04:00', 0, 61, 'Clear or partly cloudy', 'Hot'), ('2017-07-02 05:00', 7.0015, 73, 'Clear or partly cloudy', 'Hot'), ('2017-07-02 06:00', 7.0015, 69, 'Clear or partly cloudy', 'Hot'), ('2017-07-02 07:00', 0, 65, 'Clear or partly cloudy', 'Hot'), ('2017-07-02 08:00', 0, 57, 'Clear or partly cloudy', 'Hot'), ('2017-07-02 09:00', 6.0032, 51, 'Clear or partly cloudy', 'Hot'), ('2017-07-02 10:00', 0, 36, 'Clear or partly cloudy', 'Hot'), ('2017-07-02 11:00', 6.0032, 36, 'Clear or partly cloudy', 'Hot'), ('2017-07-02 12:00', 8.9981, 30, 'Clear or partly cloudy', 'Hot'), ('2017-07-02 13:00', 7.0015, 30, 'Clear or partly cloudy', 'Hot'), ('2017-07-02 14:00', 0, 20, 'Clear or partly cloudy', 'Hot'), ('2017-07-02 15:00', 11.0014, 19, 'Clear or partly cloudy', 'Hot'), ('2017-07-02 16:00', 15.0013, 22, 'Clear or partly cloudy', 'Hot'), ('2017-07-02 17:00', 15.0013, 30, 'Clear or partly cloudy', None), ('2017-07-02 18:00', 19.0012, 30, 'Clear or partly cloudy', 'Hot'), ('2017-07-02 19:00', 15.0013, 33, 'Clear or partly cloudy', 'Hot'), ('2017-07-02 20:00', 19.0012, 45, 'Clear or partly cloudy', 'Hot'), ('2017-07-02 21:00', 12.998, 48, 'Clear or partly cloudy', 'Hot'), ('2017-07-02 22:00', 11.0014, 51, 'Clear or partly cloudy', 'Hot'), ('2017-07-02 23:00', 19.0012, 54, 'Clear or partly cloudy', 'Hot'), ('2017-07-03 00:00', 15.0013, 58, 'Clear or partly cloudy', 'Hot'), ('2017-07-03 01:00', 11.0014, 61, 'Mist', 'Hot'), ('2017-07-03 02:00', 12.998, 58, 'Clear or partly cloudy', 'Hot'), ('2017-07-03 03:00', 6.0032, 65, 'Light snow or rain', 'Hot'), ('2017-07-03 04:00', 6.0032, 65, 'Light snow or rain', 'Hot'), ('2017-07-03 05:00', 12.998, 83, 'Light snow or rain', 'Hot'), ('2017-07-03 06:00', 6.0032, 94, 'Mist', 'Hot'), ('2017-07-03 07:00', 12.998, 89, 'Mist', 'Hot'), ('2017-07-03 08:00', 15.0013, 79, 'Clear or partly cloudy', 'Hot'), ('2017-07-03 09:00', 16.9979, 74, 'Clear or partly cloudy', 'Hot'), ('2017-07-03 10:00', 11.0014, 66, 'Clear or partly cloudy', 'Hot'), ('2017-07-03 11:00', 7.0015, 62, 'Clear or partly cloudy', 'Hot'), ('2017-07-03 12:00', 7.0015, 55, 'Clear or partly cloudy', 'Hot'), ('2017-07-03 13:00', 15.0013, 59, 'Clear or partly cloudy', 'Hot'), ('2017-07-03 14:00', 16.9979, 56, 'Clear or partly cloudy', 'Hot'), ('2017-07-03 15:00', 19.9995, 53, 'Clear or partly cloudy', 'Hot'), ('2017-07-03 16:00', 19.9995, 53, 'Clear or partly cloudy', 'Hot'), ('2017-07-03 17:00', 56.9969, 49, 'Light snow or rain', 'Hot'), ('2017-07-03 18:00', 56.9969, 49, 'Light snow or rain', 'Hot'), ('2017-07-03 19:00', 12.998, 83, 'Mist', 'Hot'), ('2017-07-03 20:00', 0, 83, 'Light snow or rain', 'Hot'), ('2017-07-03 21:00', 11.0014, 83, 'Mist', None), ('2017-07-03 22:00', 7.0015, 78, 'Mist', 'Hot'), ('2017-07-03 23:00', None, 83, 'Clear or partly cloudy', 'Hot'), ('2017-07-04 00:00', 8.9981, 83, 'Clear or partly cloudy', 'Hot'), ('2017-07-04 01:00', 6.0032, 83, 'Clear or partly cloudy', 'Hot'), ('2017-07-04 02:00', 0, 83, 'Clear or partly cloudy', 'Hot'), ('2017-07-04 03:00', 0, 78, 'Clear or partly cloudy', 'Hot'), ('2017-07-04 04:00', 6.0032, 78, 'Mist', 'Hot'), ('2017-07-04 05:00', 8.9981, None, 'Mist', 'Hot'), ('2017-07-04 06:00', 11.0014, 89, 'Clear or partly cloudy', 'Hot'), ('2017-07-04 07:00', 8.9981, 83, 'Clear or partly cloudy', 'Hot'), ('2017-07-04 08:00', 7.0015, 74, 'Clear or partly cloudy', 'Hot'), ('2017-07-04 09:00', 6.0032, 66, 'Mist', 'Hot'), ('2017-07-04 10:00', 6.0032, 55, 'Mist', 'Hot'), ('2017-07-04 11:00', None, 55, 'Mist', 'Hot'), ('2017-07-04 12:00', 0, 52, 'Mist', 'Hot'), ('2017-07-04 13:00', 0, 49, 'Mist', 'Hot'), ('2017-07-04 14:00', 0, 46, 'Clear or partly cloudy', 'Hot'), ('2017-07-04 15:00', 6.0032, 43, 'Clear or partly cloudy', 'Hot'), ('2017-07-04 16:00', 0, 41, 'Clear or partly cloudy', 'Hot'), ('2017-07-04 17:00', 0, 46, 'Clear or partly cloudy', 'Hot'), ('2017-07-04 18:00', 8.9981, 46, 'Clear or partly cloudy', 'Hot'), ('2017-07-04 19:00', 11.0014, 49, 'Mist', 'Hot'), ('2017-07-04 20:00', 7.0015, 55, 'Mist', 'Hot'), ('2017-07-04 21:00', 7.0015, 62, 'Mist', 'Hot'), ('2017-07-04 22:00', 8.9981, 62, 'Mist', 'Hot'), ('2017-07-04 23:00', 7.0015, 70, 'Mist', 'Hot'), ('2017-07-05 00:00', 11.0014, 65, 'Mist', 'Hot'), ('2017-07-05 01:00', 7.0015, 65, 'Clear or partly cloudy', 'Hot'), ('2017-07-05 02:00', 6.0032, 74, 'Clear or partly cloudy', 'Hot'), ('2017-07-05 03:00', 15.0013, 74, 'Clear or partly cloudy', 'Hot'), ('2017-07-05 04:00', 11.0014, 69, 'Clear or partly cloudy', 'Hot'), ('2017-07-05 05:00', 0, 69, 'Clear or partly cloudy', 'Hot'), ('2017-07-05 06:00', 6.0032, 74, 'Clear or partly cloudy', 'Hot'), ('2017-07-05 07:00', 6.0032, 65, 'Clear or partly cloudy', 'Hot'), ('2017-07-05 08:00', 8.9981, 62, 'Clear or partly cloudy', 'Hot'), ('2017-07-05 09:00', 8.9981, 58, 'Clear or partly cloudy', 'Hot'), ('2017-07-05 10:00', 7.0015, 52, 'Clear or partly cloudy', 'Hot'), ('2017-07-05 11:00', 7.0015, 46, 'Clear or partly cloudy', 'Hot'), ('2017-07-05 12:00', 7.0015, 43, 'Clear or partly cloudy', 'Hot'), ('2017-07-05 13:00', 7.0015, 43, 'Clear or partly cloudy', 'Hot'), ('2017-07-05 14:00', 11.0014, 49, 'Clear or partly cloudy', 'Hot'), ('2017-07-05 15:00', 0, 43, 'Clear or partly cloudy', 'Hot'), ('2017-07-05 16:00', 7.0015, 46, 'Clear or partly cloudy', 'Hot'), ('2017-07-05 17:00', 7.0015, 46, 'Clear or partly cloudy', 'Hot'), ('2017-07-05 18:00', 11.0014, 55, 'Clear or partly cloudy', 'Hot'), ('2017-07-05 19:00', 8.9981, 59, 'Clear or partly cloudy', 'Hot'), ('2017-07-05 20:00', None, 66, 'Clear or partly cloudy', 'Hot'), ('2017-07-05 21:00', 16.9979, 62, 'Clear or partly cloudy', 'Hot'), ('2017-07-05 22:00', 15.0013, 66, 'Clear or partly cloudy', 'Hot'), ('2017-07-05 23:00', 11.0014, 66, 'Clear or partly cloudy', 'Hot'), ('2017-07-06 00:00', 12.998, 74, 'Clear or partly cloudy', 'Hot'), ('2017-07-06 01:00', 8.9981, 74, 'Clear or partly cloudy', 'Hot'), ('2017-07-06 02:00', 6.0032, 79, 'Clear or partly cloudy', 'Hot'), ('2017-07-06 03:00', 0, 79, 'Clear or partly cloudy', 'Hot'), ('2017-07-06 04:00', 6.0032, 83, 'Mist', 'Hot'), ('2017-07-06 05:00', 6.0032, 83, 'Clear or partly cloudy', 'Hot'), ('2017-07-06 06:00', 6.0032, 79, 'Clear or partly cloudy', 'Hot'), ('2017-07-06 07:00', 0, 79, 'Mist', 'Hot'), ('2017-07-06 08:00', 7.0015, 74, 'Mist', 'Hot'), ('2017-07-06 09:00', 12.998, 79, 'Light snow or rain', 'Hot'), ('2017-07-06 10:00', 6.0032, None, 'Light snow or rain', 'Hot'), ('2017-07-06 11:00', 0, 74, 'Mist', 'Hot'), ('2017-07-06 12:00', 6.0032, 66, 'Mist', 'Hot'), ('2017-07-06 13:00', 7.0015, 70, 'Mist', 'Hot'), ('2017-07-06 14:00', 19.0012, 66, 'Clear or partly cloudy', 'Hot'), ('2017-07-06 15:00', 19.0012, 70, 'Clear or partly cloudy', 'Hot'), ('2017-07-06 16:00', 16.9979, 70, 'Clear or partly cloudy', 'Hot'), ('2017-07-06 17:00', 15.0013, 59, 'Clear or partly cloudy', 'Hot'), ('2017-07-06 18:00', 12.998, 62, 'Clear or partly cloudy', 'Hot'), ('2017-07-06 19:00', 15.0013, 70, 'Clear or partly cloudy', 'Hot'), ('2017-07-06 20:00', 16.9979, 74, 'Clear or partly cloudy', 'Hot'), ('2017-07-06 21:00', 12.998, 79, 'Clear or partly cloudy', 'Hot'), ('2017-07-06 22:00', 12.998, 79, 'Clear or partly cloudy', 'Hot'), ('2017-07-06 23:00', 15.0013, 83, 'Clear or partly cloudy', 'Hot'), ('2017-07-07 00:00', 8.9981, 89, 'Clear or partly cloudy', 'Hot'), ('2017-07-07 01:00', 12.998, 89, 'Clear or partly cloudy', 'Hot'), ('2017-07-07 02:00', None, 89, 'Clear or partly cloudy', 'Hot'), ('2017-07-07 03:00', 7.0015, 94, 'Clear or partly cloudy', 'Hot'), ('2017-07-07 04:00', 7.0015, 89, 'Clear or partly cloudy', 'Hot'), ('2017-07-07 05:00', 7.0015, 89, 'Clear or partly cloudy', 'Hot'), ('2017-07-07 06:00', 8.9981, 89, 'Mist', 'Hot'), ('2017-07-07 07:00', 7.0015, 89, 'Mist', None), ('2017-07-07 08:00', 12.998, 79, 'Mist', 'Hot'), ('2017-07-07 09:00', 11.0014, 70, 'Clear or partly cloudy', 'Hot'), ('2017-07-07 10:00', 0, 62, 'Clear or partly cloudy', 'Hot'), ('2017-07-07 11:00', 8.9981, 52, 'Clear or partly cloudy', 'Hot'), ('2017-07-07 12:00', 0, 41, 'Clear or partly cloudy', 'Hot'), ('2017-07-07 13:00', 0, 41, 'Clear or partly cloudy', 'Hot'), ('2017-07-07 14:00', 16.9979, 41, 'Clear or partly cloudy', 'Hot'), ('2017-07-07 15:00', 16.9979, 41, 'Clear or partly cloudy', 'Hot'), ('2017-07-07 16:00', 15.0013, 39, 'Clear or partly cloudy', 'Hot'), ('2017-07-07 17:00', 16.9979, 36, 'Clear or partly cloudy', 'Hot'), ('2017-07-07 18:00', 19.9995, 44, 'Clear or partly cloudy', 'Hot'), ('2017-07-07 19:00', 19.0012, 52, 'Clear or partly cloudy', 'Hot'), ('2017-07-07 20:00', 23.9994, 58, 'Clear or partly cloudy', 'Hot'), ('2017-07-07 21:00', 11.0014, 62, 'Clear or partly cloudy', 'Hot'), ('2017-07-07 22:00', 11.0014, 62, 'Clear or partly cloudy', 'Hot'), ('2017-07-07 23:00', 0, 66, 'Clear or partly cloudy', 'Hot'), ('2017-07-08 00:00', 7.0015, 66, 'Clear or partly cloudy', 'Hot'), ('2017-07-08 01:00', 0, 79, 'Clear or partly cloudy', 'Hot'), ('2017-07-08 02:00', 11.0014, 74, 'Mist', 'Hot'), ('2017-07-08 03:00', 7.0015, 79, 'Clear or partly cloudy', None), ('2017-07-08 04:00', 16.9979, 79, 'Clear or partly cloudy', 'Hot'), ('2017-07-08 05:00', 16.9979, 79, 'Clear or partly cloudy', 'Hot'), ('2017-07-08 06:00', 7.0015, 74, 'Clear or partly cloudy', 'Hot'), ('2017-07-08 07:00', 12.998, 79, 'Mist', 'Hot'), ('2017-07-08 08:00', 16.9979, 74, 'Mist', 'Hot'), ('2017-07-08 09:00', 19.9995, 70, 'Mist', 'Hot'), ('2017-07-08 10:00', 23.9994, 70, 'Mist', 'Hot'), ('2017-07-08 11:00', 16.9979, 74, 'Mist', 'Hot'), ('2017-07-08 12:00', 19.0012, 70, 'Mist', 'Hot'), ('2017-07-08 13:00', 19.0012, 66, 'Mist', 'Hot'), ('2017-07-08 14:00', 23.9994, 63, 'Mist', 'Hot'), ('2017-07-08 15:00', 23.9994, 63, 'Mist', 'Hot'), ('2017-07-08 16:00', 30.0026, 83, 'Light snow or rain', 'Hot'), ('2017-07-08 17:00', 30.0026, 89, 'Light snow or rain', 'Hot'), ('2017-07-08 18:00', 6.0032, 83, 'Clear or partly cloudy', 'Hot'), ('2017-07-08 19:00', 6.0032, 83, 'Clear or partly cloudy', 'Hot'), ('2017-07-08 20:00', 11.0014, 83, 'Clear or partly cloudy', 'Hot'), ('2017-07-08 21:00', 16.9979, 83, 'Mist', 'Hot'), ('2017-07-08 22:00', 12.998, 78, 'Mist', 'Hot'), ('2017-07-08 23:00', 6.0032, 78, 'Mist', 'Hot'), ('2017-07-09 00:00', 8.9981, 83, 'Mist', 'Hot'), ('2017-07-09 01:00', 7.0015, 89, 'Mist', 'Hot'), ('2017-07-09 02:00', 11.0014, 89, 'Clear or partly cloudy', 'Hot'), ('2017-07-09 03:00', 8.9981, 89, 'Clear or partly cloudy', 'Hot'), ('2017-07-09 04:00', 15.0013, 83, 'Clear or partly cloudy', 'Hot'), ('2017-07-09 05:00', 11.0014, 88, 'Mist', 'Hot'), ('2017-07-09 06:00', 12.998, 83, 'Mist', 'Hot'), ('2017-07-09 07:00', 12.998, 78, 'Clear or partly cloudy', 'Hot'), ('2017-07-09 08:00', 16.9979, 70, 'Clear or partly cloudy', 'Hot'), ('2017-07-09 09:00', 19.0012, 58, 'Clear or partly cloudy', 'Hot'), ('2017-07-09 10:00', 11.0014, 52, 'Clear or partly cloudy', 'Hot'), ('2017-07-09 11:00', 19.9995, 46, 'Clear or partly cloudy', 'Hot'), ('2017-07-09 12:00', 16.9979, 46, 'Clear or partly cloudy', 'Hot'), ('2017-07-09 13:00', 15.0013, 41, 'Clear or partly cloudy', 'Hot'), ('2017-07-09 14:00', 8.9981, 36, 'Clear or partly cloudy', 'Hot'), ('2017-07-09 15:00', 6.0032, 34, 'Clear or partly cloudy', 'Hot'), ('2017-07-09 16:00', 0, 38, 'Clear or partly cloudy', 'Hot'), ('2017-07-09 17:00', 0, 32, 'Clear or partly cloudy', 'Hot'), ('2017-07-09 18:00', 7.0015, 36, 'Clear or partly cloudy', 'Hot'), ('2017-07-09 19:00', 11.0014, 55, 'Clear or partly cloudy', 'Hot'), ('2017-07-09 20:00', 15.0013, 58, 'Clear or partly cloudy', 'Hot'), ('2017-07-09 21:00', 11.0014, 58, 'Clear or partly cloudy', 'Hot'), ('2017-07-09 22:00', 11.0014, 62, 'Clear or partly cloudy', 'Hot'), ('2017-07-09 23:00', 12.998, 58, 'Clear or partly cloudy', 'Hot'), ('2017-07-10 00:00', 11.0014, 61, 'Clear or partly cloudy', 'Hot'), ('2017-07-10 01:00', 8.9981, 61, 'Clear or partly cloudy', 'Hot'), ('2017-07-10 02:00', 6.0032, 69, 'Clear or partly cloudy', 'Hot'), ('2017-07-10 03:00', 6.0032, 74, 'Clear or partly cloudy', 'Hot'), ('2017-07-10 04:00', 6.0032, 69, 'Clear or partly cloudy', 'Hot'), ('2017-07-10 05:00', 0, 74, 'Clear or partly cloudy', 'Hot'), ('2017-07-10 06:00', 6.0032, 78, 'Clear or partly cloudy', 'Hot'), ('2017-07-10 07:00', 6.0032, 70, 'Clear or partly cloudy', 'Hot'), ('2017-07-10 08:00', 0, 66, 'Clear or partly cloudy', 'Hot'), ('2017-07-10 09:00', 6.0032, 66, 'Clear or partly cloudy', 'Hot'), ('2017-07-10 10:00', 8.9981, 55, 'Clear or partly cloudy', 'Hot'), ('2017-07-10 11:00', 12.998, 55, 'Clear or partly cloudy', 'Hot'), ('2017-07-10 12:00', 19.0012, 46, 'Clear or partly cloudy', 'Hot'), ('2017-07-10 13:00', 19.9995, 46, 'Clear or partly cloudy', 'Hot'), ('2017-07-10 14:00', 22.0028, 41, 'Clear or partly cloudy', 'Hot'), ('2017-07-10 15:00', 19.0012, 39, 'Clear or partly cloudy', None), ('2017-07-10 16:00', 19.0012, 41, 'Clear or partly cloudy', 'Hot'), ('2017-07-10 17:00', 15.0013, 36, 'Clear or partly cloudy', 'Hot'), ('2017-07-10 18:00', 19.0012, 43, 'Clear or partly cloudy', 'Hot'), ('2017-07-10 19:00', 22.0028, 49, 'Clear or partly cloudy', 'Hot'), ('2017-07-10 20:00', 12.998, 55, 'Clear or partly cloudy', 'Hot'), ('2017-07-10 21:00', 16.9979, 62, 'Clear or partly cloudy', 'Hot'), ('2017-07-10 22:00', 15.0013, 66, 'Clear or partly cloudy', 'Hot'), ('2017-07-10 23:00', 16.9979, 66, 'Clear or partly cloudy', 'Hot'), ('2017-07-11 00:00', 12.998, 65, 'Clear or partly cloudy', 'Hot'), ('2017-07-11 01:00', 19.0012, 61, 'Clear or partly cloudy', 'Hot'), ('2017-07-11 02:00', 15.0013, None, 'Clear or partly cloudy', 'Hot'), ('2017-07-11 03:00', 11.0014, 65, 'Clear or partly cloudy', 'Hot'), ('2017-07-11 04:00', 15.0013, 74, 'Clear or partly cloudy', 'Hot'), ('2017-07-11 05:00', 8.9981, 74, 'Clear or partly cloudy', 'Hot'), ('2017-07-11 06:00', 12.998, 74, 'Clear or partly cloudy', 'Hot'), ('2017-07-11 07:00', 16.9979, 74, 'Clear or partly cloudy', 'Hot'), ('2017-07-11 08:00', 19.0012, 66, 'Clear or partly cloudy', 'Hot'), ('2017-07-11 09:00', 19.9995, 59, 'Clear or partly cloudy', 'Hot'), ('2017-07-11 10:00', 23.9994, 55, 'Clear or partly cloudy', 'Hot'), ('2017-07-11 11:00', 19.9995, 56, 'Clear or partly cloudy', 'Hot'), ('2017-07-11 12:00', 19.0012, 53, 'Clear or partly cloudy', 'Hot'), ('2017-07-11 13:00', 16.9979, 50, 'Clear or partly cloudy', 'Hot'), ('2017-07-11 14:00', 19.0012, 53, 'Clear or partly cloudy', 'Hot'), ('2017-07-11 15:00', 27.9993, 56, 'Clear or partly cloudy', 'Hot'), ('2017-07-11 16:00', 26.0027, 56, 'Clear or partly cloudy', 'Hot'), ('2017-07-11 17:00', 27.9993, 56, 'Clear or partly cloudy', 'Hot'), ('2017-07-11 18:00', 26.0027, 53, 'Clear or partly cloudy', 'Hot'), ('2017-07-11 19:00', 22.0028, 59, 'Clear or partly cloudy', 'Hot'), ('2017-07-11 20:00', 27.9993, 74, 'Clear or partly cloudy', 'Hot'), ('2017-07-11 21:00', 27.9993, 79, 'Clear or partly cloudy', 'Hot'), ('2017-07-11 22:00', 8.9981, 74, 'Clear or partly cloudy', 'Hot'), ('2017-07-11 23:00', 8.9981, 79, 'Clear or partly cloudy', 'Hot'), ('2017-07-12 00:00', 8.9981, 79, 'Clear or partly cloudy', 'Hot'), ('2017-07-12 01:00', 6.0032, 79, 'Clear or partly cloudy', 'Hot'), ('2017-07-12 02:00', 7.0015, 79, 'Clear or partly cloudy', 'Hot'), ('2017-07-12 03:00', 0, 79, 'Mist', 'Hot'), ('2017-07-12 04:00', 11.0014, 79, 'Clear or partly cloudy', 'Hot'), ('2017-07-12 05:00', 6.0032, 79, 'Clear or partly cloudy', None), ('2017-07-12 06:00', 15.0013, 58, 'Clear or partly cloudy', 'Hot'), ('2017-07-12 07:00', 12.998, 55, 'Clear or partly cloudy', 'Hot'), ('2017-07-12 08:00', 15.0013, 58, 'Clear or partly cloudy', 'Hot'), ('2017-07-12 09:00', 32.9975, 55, 'Clear or partly cloudy', 'Hot'), ('2017-07-12 10:00', 11.0014, 52, 'Clear or partly cloudy', 'Hot'), ('2017-07-12 11:00', 11.0014, 52, 'Clear or partly cloudy', 'Hot'), ('2017-07-12 12:00', 19.9995, 44, 'Clear or partly cloudy', 'Hot'), ('2017-07-12 13:00', 15.0013, 47, 'Clear or partly cloudy', 'Hot'), ('2017-07-12 14:00', 19.9995, 42, 'Clear or partly cloudy', 'Hot'), ('2017-07-12 15:00', 23.9994, 42, 'Clear or partly cloudy', 'Hot'), ('2017-07-12 16:00', 19.0012, 44, 'Clear or partly cloudy', 'Hot'), ('2017-07-12 17:00', 19.0012, 44, 'Clear or partly cloudy', 'Hot'), ('2017-07-12 18:00', 19.9995, 47, 'Clear or partly cloudy', 'Hot'), ('2017-07-12 19:00', 19.0012, 44, 'Clear or partly cloudy', 'Hot'), ('2017-07-12 20:00', 12.998, 43, 'Clear or partly cloudy', 'Hot'), ('2017-07-12 21:00', 7.0015, 43, 'Clear or partly cloudy', 'Hot'), ('2017-07-12 22:00', 8.9981, 46, 'Clear or partly cloudy', 'Hot'), ('2017-07-12 23:00', 0, 52, 'Clear or partly cloudy', 'Hot'), ('2017-07-13 00:00', 0, 62, 'Clear or partly cloudy', 'Hot'), ('2017-07-13 01:00', 0, 55, 'Clear or partly cloudy', 'Hot'), ('2017-07-13 02:00', 0, 55, 'Clear or partly cloudy', 'Hot'), ('2017-07-13 03:00', 12.998, 58, 'Clear or partly cloudy', 'Hot'), ('2017-07-13 04:00', 16.9979, 58, 'Clear or partly cloudy', 'Hot'), ('2017-07-13 05:00', 12.998, 58, 'Clear or partly cloudy', 'Hot'), ('2017-07-13 06:00', 11.0014, 58, 'Clear or partly cloudy', 'Hot'), ('2017-07-13 07:00', 16.9979, 55, 'Clear or partly cloudy', 'Hot'), ('2017-07-13 08:00', 16.9979, 49, 'Clear or partly cloudy', None), ('2017-07-13 09:00', 12.998, 41, 'Clear or partly cloudy', 'Hot'), ('2017-07-13 10:00', 12.998, 46, 'Clear or partly cloudy', 'Hot'), ('2017-07-13 11:00', 11.0014, 39, 'Clear or partly cloudy', 'Hot'), ('2017-07-13 12:00', 19.0012, 41, 'Clear or partly cloudy', 'Hot'), ('2017-07-13 13:00', None, 46, 'Light snow or rain', 'Hot'), ('2017-07-13 14:00', 8.9981, 46, 'Light snow or rain', 'Hot'), ('2017-07-13 15:00', 8.9981, 94, 'Light snow or rain', 'Hot'), ('2017-07-13 16:00', 0, 89, 'Mist', 'Hot'), ('2017-07-13 17:00', 0, 79, 'Clear or partly cloudy', 'Hot'), ('2017-07-13 18:00', 8.9981, 79, 'Clear or partly cloudy', 'Hot'), ('2017-07-13 19:00', 7.0015, 79, 'Clear or partly cloudy', 'Hot'), ('2017-07-13 20:00', 11.0014, 84, 'Clear or partly cloudy', 'Hot'), ('2017-07-13 21:00', 7.0015, 79, 'Clear or partly cloudy', 'Hot'), ('2017-07-13 22:00', 12.998, 83, 'Clear or partly cloudy', 'Hot'), ('2017-07-13 23:00', 16.9979, 83, 'Clear or partly cloudy', 'Hot'), ('2017-07-14 00:00', 19.9995, 69, 'Clear or partly cloudy', 'Hot'), ('2017-07-14 01:00', 16.9979, 61, 'Clear or partly cloudy', 'Hot'), ('2017-07-14 02:00', 19.9995, 57, 'Clear or partly cloudy', 'Hot'), ('2017-07-14 03:00', 19.9995, 57, 'Clear or partly cloudy', 'Hot'), ('2017-07-14 04:00', 16.9979, 53, 'Clear or partly cloudy', 'Hot'), ('2017-07-14 05:00', 15.0013, 56, 'Clear or partly cloudy', 'Hot'), ('2017-07-14 06:00', 15.0013, 60, 'Clear or partly cloudy', 'Hot'), ('2017-07-14 07:00', 16.9979, 53, 'Clear or partly cloudy', 'Hot'), ('2017-07-14 08:00', 23.9994, 50, 'Clear or partly cloudy', 'Hot'), ('2017-07-14 09:00', 19.0012, 47, 'Clear or partly cloudy', 'Hot'), ('2017-07-14 10:00', 16.9979, 42, 'Clear or partly cloudy', 'Hot'), ('2017-07-14 11:00', 15.0013, 37, 'Clear or partly cloudy', 'Hot'), ('2017-07-14 12:00', 16.9979, 35, 'Clear or partly cloudy', 'Hot'), ('2017-07-14 13:00', 22.0028, 33, 'Clear or partly cloudy', 'Hot'), ('2017-07-14 14:00', 19.0012, 35, 'Clear or partly cloudy', 'Hot'), ('2017-07-14 15:00', 19.9995, 33, 'Clear or partly cloudy', 'Hot'), ('2017-07-14 16:00', 8.9981, 33, 'Clear or partly cloudy', 'Hot'), ('2017-07-14 17:00', 8.9981, 37, 'Clear or partly cloudy', 'Hot'), ('2017-07-14 18:00', 12.998, 42, 'Clear or partly cloudy', 'Hot'), ('2017-07-14 19:00', 15.0013, 39, 'Clear or partly cloudy', 'Hot'), ('2017-07-14 20:00', 15.0013, 42, 'Clear or partly cloudy', 'Hot'), ('2017-07-14 21:00', 8.9981, 50, 'Clear or partly cloudy', 'Hot'), ('2017-07-14 22:00', None, 57, 'Clear or partly cloudy', 'Hot'), ('2017-07-14 23:00', 16.9979, 65, 'Clear or partly cloudy', 'Hot'), ('2017-07-15 00:00', 15.0013, 73, 'Clear or partly cloudy', 'Hot'), ('2017-07-15 01:00', 12.998, 73, 'Clear or partly cloudy', 'Hot'), ('2017-07-15 02:00', 11.0014, 78, 'Clear or partly cloudy', 'Hot'), ('2017-07-15 03:00', 12.998, 73, 'Clear or partly cloudy', 'Hot'), ('2017-07-15 04:00', 11.0014, 73, 'Clear or partly cloudy', 'Hot'), ('2017-07-15 05:00', 8.9981, 73, 'Clear or partly cloudy', 'Hot'), ('2017-07-15 06:00', 7.0015, 73, 'Mist', 'Hot'), ('2017-07-15 07:00', 7.0015, 65, 'Clear or partly cloudy', 'Hot'), ('2017-07-15 08:00', 16.9979, 65, 'Clear or partly cloudy', 'Hot'), ('2017-07-15 09:00', 12.998, 54, 'Clear or partly cloudy', 'Hot'), ('2017-07-15 10:00', 11.0014, 61, 'Mist', 'Hot'), ('2017-07-15 11:00', 8.9981, 54, 'Clear or partly cloudy', 'Hot'), ('2017-07-15 12:00', 12.998, 48, 'Clear or partly cloudy', 'Hot'), ('2017-07-15 13:00', 12.998, 54, 'Clear or partly cloudy', 'Hot'), ('2017-07-15 14:00', 12.998, 51, 'Clear or partly cloudy', 'Hot'), ('2017-07-15 15:00', 11.0014, 45, 'Clear or partly cloudy', 'Hot'), ('2017-07-15 16:00', 12.998, 51, 'Clear or partly cloudy', 'Hot'), ('2017-07-15 17:00', 16.9979, 42, 'Clear or partly cloudy', 'Hot'), ('2017-07-15 18:00', 15.0013, 45, 'Clear or partly cloudy', 'Hot'), ('2017-07-15 19:00', 15.0013, 45, 'Clear or partly cloudy', 'Hot'), ('2017-07-15 20:00', 15.0013, 51, 'Clear or partly cloudy', 'Hot'), ('2017-07-15 21:00', 7.0015, 54, 'Clear or partly cloudy', 'Hot'), ('2017-07-15 22:00', 15.0013, 57, 'Clear or partly cloudy', 'Hot'), ('2017-07-15 23:00', 11.0014, 61, 'Clear or partly cloudy', 'Hot'), ('2017-07-16 00:00', 12.998, 65, 'Clear or partly cloudy', 'Hot'), ('2017-07-16 01:00', 7.0015, 69, 'Clear or partly cloudy', 'Hot'), ('2017-07-16 02:00', 8.9981, 73, 'Clear or partly cloudy', 'Hot'), ('2017-07-16 03:00', 8.9981, 78, 'Clear or partly cloudy', 'Hot'), ('2017-07-16 04:00', 6.0032, 73, 'Clear or partly cloudy', 'Hot'), ('2017-07-16 05:00', 6.0032, 78, 'Clear or partly cloudy', 'Hot'), ('2017-07-16 06:00', 11.0014, 78, 'Clear or partly cloudy', 'Hot'), ('2017-07-16 07:00', 8.9981, 73, 'Clear or partly cloudy', 'Hot'), ('2017-07-16 08:00', 11.0014, 65, 'Clear or partly cloudy', 'Hot'), ('2017-07-16 09:00', 15.0013, 54, 'Clear or partly cloudy', 'Hot'), ('2017-07-16 10:00', 12.998, 54, 'Clear or partly cloudy', 'Hot'), ('2017-07-16 11:00', 15.0013, 48, 'Clear or partly cloudy', 'Hot'), ('2017-07-16 12:00', 19.0012, 43, 'Clear or partly cloudy', 'Hot'), ('2017-07-16 13:00', 19.9995, 45, 'Clear or partly cloudy', 'Hot'), ('2017-07-16 14:00', 19.9995, 45, 'Clear or partly cloudy', 'Hot'), ('2017-07-16 15:00', 22.0028, 45, 'Clear or partly cloudy', 'Hot'), ('2017-07-16 16:00', 19.0012, 45, 'Clear or partly cloudy', 'Hot'), ('2017-07-16 17:00', 15.0013, 45, 'Clear or partly cloudy', 'Hot'), ('2017-07-16 18:00', 19.0012, 45, 'Clear or partly cloudy', 'Hot'), ('2017-07-16 19:00', 12.998, 48, 'Clear or partly cloudy', 'Hot'), ('2017-07-16 20:00', 15.0013, 51, 'Clear or partly cloudy', 'Hot'), ('2017-07-16 21:00', 15.0013, 58, 'Clear or partly cloudy', 'Hot'), ('2017-07-16 22:00', 19.0012, 65, 'Clear or partly cloudy', 'Hot'), ('2017-07-16 23:00', 15.0013, 61, 'Clear or partly cloudy', 'Hot'), ('2017-07-17 00:00', 15.0013, 65, 'Clear or partly cloudy', 'Hot'), ('2017-07-17 01:00', 12.998, 69, 'Clear or partly cloudy', 'Hot'), ('2017-07-17 02:00', 15.0013, 69, 'Clear or partly cloudy', 'Hot'), ('2017-07-17 03:00', 15.0013, 69, 'Clear or partly cloudy', 'Hot'), ('2017-07-17 04:00', 11.0014, 73, 'Clear or partly cloudy', 'Hot'), ('2017-07-17 05:00', 15.0013, None, 'Clear or partly cloudy', 'Hot'), ('2017-07-17 06:00', 11.0014, 73, 'Clear or partly cloudy', 'Hot'), ('2017-07-17 07:00', 11.0014, 73, 'Clear or partly cloudy', 'Hot'), ('2017-07-17 08:00', 15.0013, 65, 'Clear or partly cloudy', 'Hot'), ('2017-07-17 09:00', 15.0013, 58, 'Clear or partly cloudy', 'Hot'), ('2017-07-17 10:00', 15.0013, 60, 'Clear or partly cloudy', 'Hot'), ('2017-07-17 11:00', 19.0012, 55, 'Clear or partly cloudy', 'Hot'), ('2017-07-17 12:00', 19.0012, 55, 'Clear or partly cloudy', 'Hot'), ('2017-07-17 13:00', 19.9995, 49, 'Clear or partly cloudy', 'Hot'), ('2017-07-17 14:00', 23.9994, 49, 'Clear or partly cloudy', 'Hot'), ('2017-07-17 15:00', 19.9995, 43, 'Clear or partly cloudy', 'Hot'), ('2017-07-17 16:00', 19.9995, 46, 'Clear or partly cloudy', 'Hot'), ('2017-07-17 17:00', 26.0027, 49, 'Clear or partly cloudy', 'Hot'), ('2017-07-17 18:00', 19.9995, 46, 'Clear or partly cloudy', 'Hot'), ('2017-07-17 19:00', 19.0012, 55, 'Clear or partly cloudy', 'Hot'), ('2017-07-17 20:00', 16.9979, 58, 'Clear or partly cloudy', 'Hot'), ('2017-07-17 21:00', 15.0013, 62, 'Clear or partly cloudy', 'Hot'), ('2017-07-17 22:00', 15.0013, 66, 'Clear or partly cloudy', 'Hot'), ('2017-07-17 23:00', 8.9981, 74, 'Clear or partly cloudy', 'Hot'), ('2017-07-18 00:00', 8.9981, 74, 'Clear or partly cloudy', 'Hot'), ('2017-07-18 01:00', 15.0013, 74, 'Clear or partly cloudy', 'Hot'), ('2017-07-18 02:00', 15.0013, 83, 'Clear or partly cloudy', 'Hot'), ('2017-07-18 03:00', 12.998, 78, 'Clear or partly cloudy', 'Hot'), ('2017-07-18 04:00', 11.0014, 78, 'Clear or partly cloudy', 'Hot'), ('2017-07-18 05:00', 7.0015, 78, 'Clear or partly cloudy', 'Hot'), ('2017-07-18 06:00', 7.0015, 83, 'Clear or partly cloudy', 'Hot'), ('2017-07-18 07:00', 15.0013, 74, 'Clear or partly cloudy', 'Hot'), ('2017-07-18 08:00', 12.998, 70, 'Clear or partly cloudy', 'Hot'), ('2017-07-18 09:00', 15.0013, 67, 'Clear or partly cloudy', 'Hot'), ('2017-07-18 10:00', 12.998, 62, 'Clear or partly cloudy', 'Hot'), ('2017-07-18 11:00', 6.0032, 55, 'Clear or partly cloudy', 'Hot'), ('2017-07-18 12:00', 12.998, 59, 'Clear or partly cloudy', 'Hot'), ('2017-07-18 13:00', 16.9979, 56, 'Clear or partly cloudy', 'Hot'), ('2017-07-18 14:00', 22.0028, 56, 'Clear or partly cloudy', 'Hot'), ('2017-07-18 15:00', 22.0028, 53, 'Clear or partly cloudy', 'Hot'), ('2017-07-18 16:00', 19.0012, 53, 'Clear or partly cloudy', 'Hot'), ('2017-07-18 17:00', 22.0028, 49, 'Clear or partly cloudy', 'Hot'), ('2017-07-18 18:00', 23.9994, 49, 'Clear or partly cloudy', 'Hot'), ('2017-07-18 19:00', 15.0013, 55, 'Clear or partly cloudy', 'Hot'), ('2017-07-18 20:00', 15.0013, 59, 'Clear or partly cloudy', 'Hot'), ('2017-07-18 21:00', 12.998, 66, 'Clear or partly cloudy', 'Hot'), ('2017-07-18 22:00', 15.0013, 66, 'Clear or partly cloudy', 'Hot'), ('2017-07-18 23:00', 11.0014, 66, 'Clear or partly cloudy', 'Hot'), ('2017-07-19 00:00', None, 66, 'Clear or partly cloudy', 'Hot'), ('2017-07-19 01:00', 8.9981, 66, 'Mist', 'Hot'), ('2017-07-19 02:00', 11.0014, 70, 'Clear or partly cloudy', 'Hot'), ('2017-07-19 03:00', 11.0014, 70, 'Clear or partly cloudy', 'Hot'), ('2017-07-19 04:00', 8.9981, 70, 'Clear or partly cloudy', 'Hot'), ('2017-07-19 05:00', 7.0015, 74, 'Mist', 'Hot'), ('2017-07-19 06:00', 7.0015, 74, 'Mist', 'Hot'), ('2017-07-19 07:00', 11.0014, 70, 'Mist', 'Hot'), ('2017-07-19 08:00', 11.0014, 70, 'Mist', 'Hot'), ('2017-07-19 09:00', 8.9981, 63, 'Mist', 'Hot'), ('2017-07-19 10:00', 11.0014, 56, 'Mist', 'Hot'), ('2017-07-19 11:00', 0, 59, 'Clear or partly cloudy', 'Hot'), ('2017-07-19 12:00', 6.0032, 56, 'Clear or partly cloudy', 'Hot'), ('2017-07-19 13:00', 7.0015, 53, 'Clear or partly cloudy', 'Hot'), ('2017-07-19 14:00', 12.998, 50, 'Clear or partly cloudy', 'Hot'), ('2017-07-19 15:00', 12.998, 44, 'Clear or partly cloudy', 'Hot'), ('2017-07-19 16:00', 19.9995, 42, 'Clear or partly cloudy', 'Hot'), ('2017-07-19 17:00', 0, 66, 'Clear or partly cloudy', 'Hot'), ('2017-07-19 18:00', 8.9981, 66, 'Clear or partly cloudy', 'Hot'), ('2017-07-19 19:00', 12.998, 75, 'Clear or partly cloudy', 'Hot'), ('2017-07-19 20:00', 6.0032, 74, 'Clear or partly cloudy', 'Hot'), ('2017-07-19 21:00', 8.9981, 74, 'Clear or partly cloudy', 'Hot'), ('2017-07-19 22:00', 0, 74, 'Clear or partly cloudy', 'Hot'), ('2017-07-19 23:00', 11.0014, 79, 'Light snow or rain', 'Hot')]\n"
     ]
    }
   ],
   "source": [
    "cur = con.cursor()\n",
    "\n",
    "cur.execute(\"\"\"SELECT t.month, AVG(c.demand) as average_demand\n",
    "FROM CarSharing c\n",
    "INNER JOIN time t\n",
    "ON c.timestamp = t.timestamp\n",
    "WHERE strftime(\"%Y\", c.timestamp) = \"2017\"\n",
    "GROUP BY t.month\n",
    "ORDER BY average_demand DESC\n",
    "LIMIT 1\n",
    ";\"\"\")\n",
    "\n",
    "result = cur.fetchall()\n",
    "columns = [description[0] for description in cur.description]\n",
    "print(columns, result, sep=\"\\n\")\n",
    "\n",
    "\n",
    "cur.execute(\"\"\"SELECT c.timestamp, c.windspeed, c.humidity, w.weather, c.temp_category\n",
    "FROM CarSharing c\n",
    "INNER JOIN time t\n",
    "ON c.timestamp = t.timestamp\n",
    "INNER JOIN (\n",
    "  SELECT DISTINCT weather_code, weather\n",
    "  FROM weather\n",
    ") w\n",
    "ON c.weather_code = w.weather_code\n",
    "WHERE t.month = \"July\"\n",
    "AND strftime(\"%Y\", c.timestamp) = \"2017\"\n",
    ";\"\"\")\n",
    "\n",
    "result = cur.fetchall()\n",
    "columns = [description[0] for description in cur.description]\n",
    "print(columns, result, sep=\"\\n\")\n",
    "\n",
    "cur.close()"
   ]
  }
 ],
 "metadata": {
  "kernelspec": {
   "display_name": "Python 3 (ipykernel)",
   "language": "python",
   "name": "python3"
  },
  "language_info": {
   "codemirror_mode": {
    "name": "ipython",
    "version": 3
   },
   "file_extension": ".py",
   "mimetype": "text/x-python",
   "name": "python",
   "nbconvert_exporter": "python",
   "pygments_lexer": "ipython3",
   "version": "3.11.5"
  }
 },
 "nbformat": 4,
 "nbformat_minor": 5
}
